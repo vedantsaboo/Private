{
 "cells": [
  {
   "cell_type": "markdown",
   "metadata": {
    "colab_type": "text",
    "id": "view-in-github"
   },
   "source": [
    "<a href=\"https://colab.research.google.com/github/Devansharma/Health-App/blob/main/Kidney_EDA.ipynb\" target=\"_parent\"><img src=\"https://colab.research.google.com/assets/colab-badge.svg\" alt=\"Open In Colab\"/></a>"
   ]
  },
  {
   "cell_type": "code",
   "execution_count": null,
   "metadata": {
    "id": "FibVOTfeaxjp"
   },
   "outputs": [],
   "source": [
    "import pandas as pd\n",
    "import numpy as np\n",
    "import matplotlib.pyplot as plt\n",
    "import seaborn as sns"
   ]
  },
  {
   "cell_type": "code",
   "execution_count": null,
   "metadata": {
    "id": "FIOU4j2Jbnsa"
   },
   "outputs": [],
   "source": [
    "df = pd.read_csv(\"kidney.csv\")"
   ]
  },
  {
   "cell_type": "code",
   "execution_count": null,
   "metadata": {
    "colab": {
     "base_uri": "https://localhost:8080/",
     "height": 197
    },
    "id": "VPzGVNrKb5wm",
    "outputId": "6ae9c858-9fb1-48c3-db2e-1a6bb194fc7b"
   },
   "outputs": [],
   "source": [
    "df.head()"
   ]
  },
  {
   "cell_type": "code",
   "execution_count": null,
   "metadata": {
    "colab": {
     "base_uri": "https://localhost:8080/"
    },
    "id": "_elZM7E1bwCc",
    "outputId": "dce0d1a3-9b5b-40e2-e2e9-84bd884e319f"
   },
   "outputs": [],
   "source": [
    "df.info()"
   ]
  },
  {
   "cell_type": "code",
   "execution_count": null,
   "metadata": {
    "colab": {
     "base_uri": "https://localhost:8080/"
    },
    "id": "Xn38TKHrb3rJ",
    "outputId": "76d07906-9127-4d77-bd0e-49d50152113b"
   },
   "outputs": [],
   "source": [
    "df.isnull().sum().sort_values(ascending=False)"
   ]
  },
  {
   "cell_type": "code",
   "execution_count": null,
   "metadata": {
    "id": "OCwW1o11edEd"
   },
   "outputs": [],
   "source": [
    "cols_names={\"bp\":\"blood_pressure\",\n",
    "          \"sg\":\"specific_gravity\",\n",
    "          \"al\":\"albumin\",\n",
    "          \"su\":\"sugar\",\n",
    "          \"rbc\":\"red_blood_cells\",\n",
    "          \"pc\":\"pus_cell\",\n",
    "          \"pcc\":\"pus_cell_clumps\",\n",
    "          \"ba\":\"bacteria\",\n",
    "          \"bgr\":\"blood_glucose_random\",\n",
    "          \"bu\":\"blood_urea\",\n",
    "          \"sc\":\"serum_creatinine\",\n",
    "          \"sod\":\"sodium\",\n",
    "          \"pot\":\"potassium\",\n",
    "          \"hemo\":\"haemoglobin\",\n",
    "          \"pcv\":\"packed_cell_volume\",\n",
    "          \"wc\":\"white_blood_cell_count\",\n",
    "          \"rc\":\"red_blood_cell_count\",\n",
    "          \"htn\":\"hypertension\",\n",
    "          \"dm\":\"diabetes_mellitus\",\n",
    "          \"cad\":\"coronary_artery_disease\",\n",
    "          \"appet\":\"appetite\",\n",
    "          \"pe\":\"pedal_edema\",\n",
    "          \"ane\":\"anemia\"}\n",
    "\n",
    "df.rename(columns=cols_names, inplace=True)"
   ]
  },
  {
   "cell_type": "code",
   "execution_count": null,
   "metadata": {
    "id": "LmtFq9jDd4em"
   },
   "outputs": [],
   "source": [
    "numerical_features = []\n",
    "categorical_features = []\n",
    "\n",
    "for i in df.columns:\n",
    "    if df[i].nunique()>7:\n",
    "        numerical_features.append(i)\n",
    "    else:\n",
    "        categorical_features.append(i)"
   ]
  },
  {
   "cell_type": "code",
   "execution_count": null,
   "metadata": {
    "colab": {
     "base_uri": "https://localhost:8080/"
    },
    "id": "1Gi9kuE4eOo7",
    "outputId": "f6d2b0d7-1e96-4253-e46e-a61fd1772d88"
   },
   "outputs": [],
   "source": [
    "for feats in categorical_features:\n",
    "    print(f'{feats} has {df[feats].unique()} categories.\\n')"
   ]
  },
  {
   "cell_type": "code",
   "execution_count": null,
   "metadata": {
    "id": "YkUMQANXeP2S"
   },
   "outputs": [],
   "source": [
    "df['diabetes_mellitus'] = df['diabetes_mellitus'].replace(to_replace = {'no':'no','yes':'yes',' yes':'yes'})\n",
    "df['coronary_artery_disease'] = df['coronary_artery_disease'].replace(to_replace = 'no', value='no')\n",
    "df['classification'] = df['classification'].replace(to_replace = 'ckd', value = 'ckd')"
   ]
  },
  {
   "cell_type": "code",
   "execution_count": null,
   "metadata": {
    "colab": {
     "base_uri": "https://localhost:8080/"
    },
    "id": "6wmyzRkTeoFT",
    "outputId": "5dd15368-0e61-45e0-9edc-19cc59109535"
   },
   "outputs": [],
   "source": [
    "for feats in categorical_features:\n",
    "    print(f'{feats} has {df[feats].unique()} categories.\\n')"
   ]
  },
  {
   "cell_type": "code",
   "execution_count": null,
   "metadata": {
    "colab": {
     "base_uri": "https://localhost:8080/",
     "height": 1000
    },
    "id": "LD1k_QdqdEH7",
    "outputId": "cf8dd175-5a37-4f03-c079-d7db4ce41669"
   },
   "outputs": [],
   "source": [
    "fig, axes = plt.subplots(nrows=4, ncols=3, figsize=(15,15))\n",
    "fig.subplots_adjust(hspace=0.5)\n",
    "fig.suptitle('Distributions of numerical Features')\n",
    "\n",
    "\n",
    "for ax, feats in zip(axes.flatten(), numerical_features):\n",
    "    sns.distplot(a=df[feats], ax=ax)"
   ]
  },
  {
   "cell_type": "code",
   "execution_count": null,
   "metadata": {
    "colab": {
     "base_uri": "https://localhost:8080/",
     "height": 1000
    },
    "id": "UeoInN_xd1r_",
    "outputId": "4adb0272-ca18-45fd-d124-2c65a4c57d5d"
   },
   "outputs": [],
   "source": [
    "fig, axes = plt.subplots(nrows=5, ncols=3, figsize=(15,15))\n",
    "fig.subplots_adjust(hspace=0.5)\n",
    "fig.suptitle('Distributions of categorical Features')\n",
    "\n",
    "\n",
    "for ax, feats in zip(axes.flatten(), categorical_features):\n",
    "    sns.countplot(df[feats], ax=ax)"
   ]
  },
  {
   "cell_type": "code",
   "execution_count": null,
   "metadata": {
    "colab": {
     "base_uri": "https://localhost:8080/",
     "height": 330
    },
    "id": "kLxoQhMjlME2",
    "outputId": "56ce5a1e-980c-4c35-d3cd-f22eedab6c9d"
   },
   "outputs": [],
   "source": [
    "sns.countplot(x='classification',data=df)\n",
    "plt.xlabel(\"classification\")\n",
    "plt.ylabel(\"Count\")\n",
    "plt.title(\"target Class\")\n",
    "plt.show()\n",
    "print('Percent of chronic kidney disease sample: ',round(len(df[df['classification']=='ckd'])/len(df['classification'])*100,2),\"%\")\n",
    "print('Percent of not a chronic kidney disease sample: ',round(len(df[df['classification']=='notckd'])/len(df['classification'])*100,2),\"%\")"
   ]
  },
  {
   "cell_type": "code",
   "execution_count": null,
   "metadata": {
    "colab": {
     "base_uri": "https://localhost:8080/",
     "height": 868
    },
    "id": "WfP1xwnwghrc",
    "outputId": "835ddfc1-60f1-4e00-da0b-6ea648bb44a0"
   },
   "outputs": [],
   "source": [
    "corr_df = df.corr()\n",
    "f,ax=plt.subplots(figsize=(15,15))\n",
    "mask = np.zeros_like(corr_df)\n",
    "mask[np.triu_indices_from(mask)] = True\n",
    "sns.heatmap(corr_df,annot=True,fmt=\".2f\",ax=ax,linewidths=0.5,linecolor=\"orange\", mask = mask, square=True)\n",
    "plt.xticks(rotation=45)\n",
    "plt.yticks(rotation=45)\n",
    "plt.title('Correlations between different features')\n",
    "plt.show()"
   ]
  },
  {
   "cell_type": "code",
   "execution_count": null,
   "metadata": {
    "id": "Qd7XcAMlhVqC"
   },
   "outputs": [],
   "source": []
  }
 ],
 "metadata": {
  "colab": {
   "authorship_tag": "ABX9TyOMbQoOwKjsSXIESfX2EvrM",
   "include_colab_link": true,
   "name": "Kidney EDA.ipynb",
   "provenance": []
  },
  "kernelspec": {
   "display_name": "Python 3 (ipykernel)",
   "language": "python",
   "name": "python3"
  },
  "language_info": {
   "codemirror_mode": {
    "name": "ipython",
    "version": 3
   },
   "file_extension": ".py",
   "mimetype": "text/x-python",
   "name": "python",
   "nbconvert_exporter": "python",
   "pygments_lexer": "ipython3",
   "version": "3.9.12"
  }
 },
 "nbformat": 4,
 "nbformat_minor": 1
}
